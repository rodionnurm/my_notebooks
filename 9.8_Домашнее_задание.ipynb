{
 "cells": [
  {
   "cell_type": "markdown",
   "metadata": {
    "id": "I3cIqq1_avyx"
   },
   "source": [
    "# Функции. Домашнее задание\n",
    "\n",
    "В домашнем задании есть обязательные и дополнительные задачи.\n",
    "\n",
    "*Обязательные задачи* нужно сделать, чтобы проверить, что вы действительно усвоили материал модуля. Они обязательны к загрузке на проверку преподавателю.\n",
    "\n",
    "*Дополнительные задачи* для тех, кто чувствует, что нужно ещё немного потренироваться и порешать задачки по программированию. Вы также можете загрузить их на проверку преподавателю и получить по ним обратную связь.\n",
    "\n",
    "Удачи!\n"
   ]
  },
  {
   "cell_type": "markdown",
   "metadata": {
    "id": "TaxnMjUDcPku"
   },
   "source": [
    "---"
   ]
  },
  {
   "cell_type": "markdown",
   "metadata": {
    "id": "mF7WQFldayeZ"
   },
   "source": [
    "**Цели домашнего задания:**\n",
    "1. Научиться декомпозировать код с помощью функций.\n",
    "2. Попрактиковаться в использовании встроенных функций и методов.\n",
    "3. Проверить понимание и умение работать с рекурсивными функциями.\n",
    "4. Отработать обработку текстовых данных.\n",
    "\n"
   ]
  },
  {
   "cell_type": "markdown",
   "metadata": {
    "id": "qrO7Cn2EeUP9"
   },
   "source": [
    "**Что входит в домашнее задание:**\n",
    "1. *Обязательные задачи*:\n",
    "- Конвертация валют.\n",
    "- Обработка анкет.\n",
    "- Факториал.\n",
    "- Палиндром\n",
    "\n",
    "2. *Дополнительные задачи*:\n",
    "- Количество цифр в числе.\n",
    "- Количество отличников и двоечников.\n",
    "- Калькулятор.\n",
    "\n"
   ]
  },
  {
   "cell_type": "markdown",
   "metadata": {
    "id": "JyaO4C1veWzM"
   },
   "source": [
    "**Критерии оценки:**\n",
    "- программа выдаёт верный ответ на разных наборах входных данных;\n",
    "- код читабелен: переменным даны осмысленные названия, отступы и правила расстановки пробелов соблюдены;\n",
    "- код соответствует принципу DRY и декомпозирован с помощью функций.\n",
    "\n",
    "\n",
    "**Как отправить задание на проверку**\n",
    "\n",
    "Выполните задачи, сохраните изменения при помощи опции Save and Checkpoint из вкладки меню File или кнопки Save and Checkpoint на панели инструментов. Отправьте через форму на платформе итоговый файл Jupyter Notebook (в формате .ipynb) или ссылку на него."
   ]
  },
  {
   "cell_type": "markdown",
   "metadata": {
    "id": "qSDMGVxpbOMM"
   },
   "source": [
    "\n",
    "\n",
    "---\n",
    "\n",
    "\n",
    "\n",
    "---\n",
    "\n"
   ]
  },
  {
   "cell_type": "markdown",
   "metadata": {
    "id": "6m31Ptr8tFdp"
   },
   "source": [
    "**Обязательные задачи**"
   ]
  },
  {
   "cell_type": "markdown",
   "metadata": {
    "id": "1nI8YsZQ8xvq"
   },
   "source": [
    "*Задача 1. Конвертация валют*\n",
    "\n",
    "Напишите функцию `rub_to_currency`, которая переводит деньги в рублях в одну из двух валют: USD или CNY. У функции должно быть два входных параметра:\n",
    "1. `rub_amount` — деньги в рублях;\n",
    "2.  `currency` — валюта, в которую нужно совершить перевод. Если второй параметр не указан, по умолчанию следует считать его равным USD.\n",
    "\n",
    "На выходе функция должна вывести на экран, сколько рублей было дано в начале и сколько денег получилось в заданной валюте. В случае с китайским юанем также нужно вывести промежуточное значение в долларах. Если на вход в `currency` приходит невалидное значение, нужно вывести на экран сообщение: «Расчёт не может быть совершён».\n",
    "\n",
    "Декомпозируйте данную задачу на несколько функций.\n",
    "\n",
    "Проверьте, что функция `rub_to_currency` в последующих ячейках отработала верно."
   ]
  },
  {
   "cell_type": "code",
   "execution_count": null,
   "metadata": {
    "id": "u1pxlf7BDNa4"
   },
   "outputs": [],
   "source": [
    "# Создайте вспомогательные функции для перевода в доллар и китайский юань\n",
    "# Считайте курс доллара к рублю следующим: 1USD = 70,99RUB, курс доллара к юаню: 1USD = 6,44CNY\n"
   ]
  },
  {
   "cell_type": "code",
   "execution_count": 66,
   "metadata": {},
   "outputs": [],
   "source": [
    "# Функция по переводу рублей в доллары\n",
    "def rub_to_usd(rub_amount):\n",
    "    usd_rate = 70.99\n",
    "    usd = round(rub_amount / usd_rate, 2)\n",
    "    \n",
    "    return usd"
   ]
  },
  {
   "cell_type": "code",
   "execution_count": 67,
   "metadata": {},
   "outputs": [
    {
     "data": {
      "text/plain": [
       "14.09"
      ]
     },
     "execution_count": 67,
     "metadata": {},
     "output_type": "execute_result"
    }
   ],
   "source": [
    "# Проверка функции\n",
    "rub_to_usd(1000)"
   ]
  },
  {
   "cell_type": "code",
   "execution_count": 68,
   "metadata": {},
   "outputs": [],
   "source": [
    "# Функция по переводу долларов в юани\n",
    "def usd_to_cny(rub_amount):\n",
    "    cny_rate = 6.44\n",
    "    cny = round((rub_to_usd(rub_amount))*cny_rate, 2)\n",
    "    \n",
    "    return cny"
   ]
  },
  {
   "cell_type": "code",
   "execution_count": 69,
   "metadata": {},
   "outputs": [
    {
     "data": {
      "text/plain": [
       "90.74"
      ]
     },
     "execution_count": 69,
     "metadata": {},
     "output_type": "execute_result"
    }
   ],
   "source": [
    "# Проверка функции\n",
    "usd_to_cny(1000)"
   ]
  },
  {
   "cell_type": "code",
   "execution_count": 70,
   "metadata": {},
   "outputs": [],
   "source": [
    "def rub_to_currency(rub_amount, currency = \"USD\"):\n",
    "    if currency == \"USD\":\n",
    "        print(f\"было: {rub_amount}RUB, \" \\\n",
    "              f\"стало: {rub_to_usd(rub_amount)}USD\")\n",
    "    elif currency == \"CNY\":\n",
    "        print(f\"Конвертация в USD\\n\" \\\n",
    "              f\"было: {rub_amount}RUB, стало: {rub_to_usd(rub_amount)}USD\\n\" \\\n",
    "              f\"было: {rub_to_usd(rub_amount)}USD, стало: {usd_to_cny(rub_amount)}CNY\")\n",
    "    else:\n",
    "        print(\"Расчёт не может быть совершён\")\n"
   ]
  },
  {
   "cell_type": "code",
   "execution_count": 71,
   "metadata": {},
   "outputs": [
    {
     "name": "stdout",
     "output_type": "stream",
     "text": [
      "было: 1000RUB, стало: 14.09USD\n"
     ]
    }
   ],
   "source": [
    "rub_to_currency(1000, \"USD\")"
   ]
  },
  {
   "cell_type": "code",
   "execution_count": 72,
   "metadata": {},
   "outputs": [
    {
     "name": "stdout",
     "output_type": "stream",
     "text": [
      "Конвертация в USD\n",
      "было: 1000RUB, стало: 14.09USD\n",
      "было: 14.09USD, стало: 90.74CNY\n"
     ]
    }
   ],
   "source": [
    "rub_to_currency(1000, \"CNY\")"
   ]
  },
  {
   "cell_type": "code",
   "execution_count": 73,
   "metadata": {},
   "outputs": [
    {
     "name": "stdout",
     "output_type": "stream",
     "text": [
      "Расчёт не может быть совершён\n"
     ]
    }
   ],
   "source": [
    "rub_to_currency(1000, \"EUR\")"
   ]
  },
  {
   "cell_type": "code",
   "execution_count": 74,
   "metadata": {},
   "outputs": [
    {
     "name": "stdout",
     "output_type": "stream",
     "text": [
      "было: 1000RUB, стало: 14.09USD\n"
     ]
    }
   ],
   "source": [
    "rub_to_currency(1000)"
   ]
  },
  {
   "cell_type": "code",
   "execution_count": null,
   "metadata": {},
   "outputs": [],
   "source": []
  },
  {
   "cell_type": "markdown",
   "metadata": {
    "id": "1YIw6X35mR5U"
   },
   "source": [
    "*Задача 2. Обработка анкет*\n",
    "\n",
    "Вам выгрузили список с анкетами потенциальных клиентов, которые заинтересовались покупкой подписки на здоровую еду. Вам нужно обработать эти значения и сказать, какие анкеты подходят (а какие нет) для дальнейшего обзвона колл-центром.\n",
    "\n",
    "Условия, которым должна удовлетворять анкета:\n",
    "* Есть контактная информация: номер телефона.\n",
    "* Контактный номер начинается либо с восьмёрки, либо с семёрки и состоит из десяти символов.\n",
    "* Город проживания: Москва.\n",
    "\n",
    "Пример анкеты выглядит следующим образом: `name=Аня,phone=8800234 , city=москва`. Заметьте, в значениях параметров городов, имён, номеров телефонов могут встретиться лишние пробелы. Попробуйте удалить их с помощью метода `replace`.\n"
   ]
  },
  {
   "cell_type": "code",
   "execution_count": null,
   "metadata": {
    "colab": {
     "base_uri": "https://localhost:8080/"
    },
    "executionInfo": {
     "elapsed": 354,
     "status": "ok",
     "timestamp": 1634726098579,
     "user": {
      "displayName": "Евгения Миллер",
      "photoUrl": "https://lh3.googleusercontent.com/a-/AOh14Gj2X0dQicVOw3_uvDLm2AdkkDjMIUubVj8NCWQ6=s64",
      "userId": "01842992490389353651"
     },
     "user_tz": -180
    },
    "id": "t_BdijwS72m2",
    "outputId": "78a7582a-a68f-4c79-9027-c0e04a974055"
   },
   "outputs": [
    {
     "name": "stdout",
     "output_type": "stream",
     "text": [
      "aaaa\n",
      "!!!????\n",
      "?!aaaa\n"
     ]
    }
   ],
   "source": [
    "# Метод replace заменяет все вхождения строки, указанной первым аргументом, на строку, указанную вторым аргументом\n",
    "\n",
    "# Замена восклицательного знака на пустоту\n",
    "print('!!!aaaa'.replace('!',''))\n",
    "# Замена а на вопросительный знак\n",
    "print('!!!aaaa'.replace('a','?'))\n",
    "# Замена двух восклицательных знаков на вопросительный\n",
    "print('!!!aaaa'.replace('!!','?'))"
   ]
  },
  {
   "cell_type": "code",
   "execution_count": 1,
   "metadata": {
    "id": "bQFctEmbrezu"
   },
   "outputs": [],
   "source": [
    "applications = [\n",
    "         'name=Аня,phone=8800234 ,city=москва',\n",
    "         'name=КОЛЯ,phone=8800900871 ,city=МОСКВА',\n",
    "         'name=Валентина,phone=7950900871 ,city=волгоград',\n",
    "         'name=,phone=7999901871,city=москва',\n",
    "         'name=Иван,phone=7999901871,city=москва',\n",
    "         'name=Инга,phone=,city=москва'\n",
    "\n",
    "] "
   ]
  },
  {
   "cell_type": "code",
   "execution_count": 2,
   "metadata": {},
   "outputs": [],
   "source": [
    "# Функция проверки валидности номера\n",
    "def check_phone(phone):\n",
    "    n = len(phone)\n",
    "    if n == 0:\n",
    "        return False\n",
    "    else:\n",
    "        first_number = (phone[0] == '8') or (phone[0] == '7')\n",
    "        length = (n == 10)\n",
    "        return length and first_number"
   ]
  },
  {
   "cell_type": "code",
   "execution_count": 3,
   "metadata": {},
   "outputs": [
    {
     "data": {
      "text/plain": [
       "False"
      ]
     },
     "execution_count": 3,
     "metadata": {},
     "output_type": "execute_result"
    }
   ],
   "source": [
    "# Проверка функции\n",
    "check_phone(applications)"
   ]
  },
  {
   "cell_type": "code",
   "execution_count": 4,
   "metadata": {},
   "outputs": [],
   "source": [
    "# Функция проверки города\n",
    "def check_city(city):\n",
    "    return city.lower().find('москва') != -1\n",
    "\n",
    "def find_value(string):\n",
    "    return string.split('=')[1].replace(' ','')"
   ]
  },
  {
   "cell_type": "code",
   "execution_count": 5,
   "metadata": {},
   "outputs": [],
   "source": [
    "# Функция проверки списка анкет\n",
    "def check_application(application):\n",
    "    splitted_data = application.split(',')\n",
    "    is_phone = check_phone(find_value(splitted_data[1]))\n",
    "    is_city = check_city(find_value(splitted_data[2]))\n",
    "    result = is_phone and is_city\n",
    "    return result\n",
    "\n",
    "def find_valid_applications(applications):\n",
    "    for application in applications:\n",
    "        result = check_application(application)\n",
    "        print(f'{application} --- {result}')"
   ]
  },
  {
   "cell_type": "code",
   "execution_count": 6,
   "metadata": {},
   "outputs": [
    {
     "name": "stdout",
     "output_type": "stream",
     "text": [
      "name=Аня,phone=8800234 ,city=москва --- False\n",
      "name=КОЛЯ,phone=8800900871 ,city=МОСКВА --- True\n",
      "name=Валентина,phone=7950900871 ,city=волгоград --- False\n",
      "name=,phone=7999901871,city=москва --- True\n",
      "name=Иван,phone=7999901871,city=москва --- True\n",
      "name=Инга,phone=,city=москва --- False\n"
     ]
    }
   ],
   "source": [
    "# Проверка функции\n",
    "find_valid_applications(applications)"
   ]
  },
  {
   "cell_type": "markdown",
   "metadata": {
    "id": "c3X805npAhXG"
   },
   "source": [
    "*Задача 3. Факториал*\n",
    "\n",
    "Факториалом числа n называется произведение всех натуральных чисел от 1 до n.\n",
    "\n",
    "\n",
    "\n",
    "> n! = 1 \\* 2 \\*...\\* n\n",
    "\n",
    "> 3! = 1 \\* 2 \\* 3 = 6\n",
    "\n",
    "> 0! = 1\n",
    "\n",
    "Напишите рекурсивную функцию нахождения факториала, где входным параметром является одно единственное число — n. Проверьте, что функция в последующих ячейках отработала верно.\n",
    "\n",
    "\n",
    "\n",
    "\n",
    "\n",
    "\n",
    "\n"
   ]
  },
  {
   "cell_type": "code",
   "execution_count": 94,
   "metadata": {
    "id": "qD9afK3cC2GY"
   },
   "outputs": [],
   "source": [
    "# Ваш код здесь\n",
    "def factorial(n):\n",
    "    if n < 0 or n % 1 != 0:\n",
    "        return None\n",
    "    if 0 <= n <= 1:\n",
    "        return 1\n",
    "    else:\n",
    "        return n*factorial(n-1)"
   ]
  },
  {
   "cell_type": "code",
   "execution_count": 95,
   "metadata": {
    "colab": {
     "base_uri": "https://localhost:8080/"
    },
    "executionInfo": {
     "elapsed": 4,
     "status": "ok",
     "timestamp": 1634726334959,
     "user": {
      "displayName": "Евгения Миллер",
      "photoUrl": "https://lh3.googleusercontent.com/a-/AOh14Gj2X0dQicVOw3_uvDLm2AdkkDjMIUubVj8NCWQ6=s64",
      "userId": "01842992490389353651"
     },
     "user_tz": -180
    },
    "id": "w1WpXrpCCta8",
    "outputId": "a7326cc4-a16d-42f8-b260-5d855a453ad2"
   },
   "outputs": [
    {
     "data": {
      "text/plain": [
       "1"
      ]
     },
     "execution_count": 95,
     "metadata": {},
     "output_type": "execute_result"
    }
   ],
   "source": [
    "factorial(1)"
   ]
  },
  {
   "cell_type": "code",
   "execution_count": 96,
   "metadata": {
    "colab": {
     "base_uri": "https://localhost:8080/"
    },
    "executionInfo": {
     "elapsed": 2,
     "status": "ok",
     "timestamp": 1634726335206,
     "user": {
      "displayName": "Евгения Миллер",
      "photoUrl": "https://lh3.googleusercontent.com/a-/AOh14Gj2X0dQicVOw3_uvDLm2AdkkDjMIUubVj8NCWQ6=s64",
      "userId": "01842992490389353651"
     },
     "user_tz": -180
    },
    "id": "5ZE9XanICvZJ",
    "outputId": "c30d3863-f1be-4044-f4cc-e10195527dcf"
   },
   "outputs": [
    {
     "data": {
      "text/plain": [
       "1"
      ]
     },
     "execution_count": 96,
     "metadata": {},
     "output_type": "execute_result"
    }
   ],
   "source": [
    "factorial(0)"
   ]
  },
  {
   "cell_type": "code",
   "execution_count": 97,
   "metadata": {
    "colab": {
     "base_uri": "https://localhost:8080/"
    },
    "executionInfo": {
     "elapsed": 4,
     "status": "ok",
     "timestamp": 1634726335491,
     "user": {
      "displayName": "Евгения Миллер",
      "photoUrl": "https://lh3.googleusercontent.com/a-/AOh14Gj2X0dQicVOw3_uvDLm2AdkkDjMIUubVj8NCWQ6=s64",
      "userId": "01842992490389353651"
     },
     "user_tz": -180
    },
    "id": "oGZg0EDkCw6H",
    "outputId": "1b99c010-088c-48f1-d47b-df3a81751de8"
   },
   "outputs": [
    {
     "data": {
      "text/plain": [
       "24"
      ]
     },
     "execution_count": 97,
     "metadata": {},
     "output_type": "execute_result"
    }
   ],
   "source": [
    "factorial(4)"
   ]
  },
  {
   "cell_type": "code",
   "execution_count": 98,
   "metadata": {},
   "outputs": [],
   "source": [
    "factorial(-2)"
   ]
  },
  {
   "cell_type": "code",
   "execution_count": 99,
   "metadata": {},
   "outputs": [],
   "source": [
    "factorial(2.98)"
   ]
  },
  {
   "cell_type": "markdown",
   "metadata": {
    "id": "Bit-nevse14o"
   },
   "source": [
    "*Задача 4. Палиндром*\n",
    "\n",
    "Палиндромом называется такое слово (или фраза), которое слева направо и справа налево читается одинаково. Нужно написать рекурсивную функцию, которая будет возвращать `True`, если слово палиндром, и `False`, если нет.\n",
    "\n",
    "Будем считать, что пустая строка также является палиндромом.\n",
    "\n",
    "Решение должно работать на строках без знаков препинания. Проверьте, что функция в последующих ячейках отработала верно.\n",
    "\n"
   ]
  },
  {
   "cell_type": "code",
   "execution_count": 199,
   "metadata": {
    "id": "IHePFicik7Ih"
   },
   "outputs": [],
   "source": [
    "def palindrom(text):\n",
    "    text = text.replace(\" \", \"\").lower()\n",
    "    if len(text) <= 1:\n",
    "        return True\n",
    "    else:\n",
    "        if text[0] == text[-1]:\n",
    "            return palindrom(text[1:-1])\n",
    "        else:\n",
    "            return False"
   ]
  },
  {
   "cell_type": "code",
   "execution_count": 200,
   "metadata": {
    "colab": {
     "base_uri": "https://localhost:8080/"
    },
    "executionInfo": {
     "elapsed": 240,
     "status": "ok",
     "timestamp": 1634726417021,
     "user": {
      "displayName": "Евгения Миллер",
      "photoUrl": "https://lh3.googleusercontent.com/a-/AOh14Gj2X0dQicVOw3_uvDLm2AdkkDjMIUubVj8NCWQ6=s64",
      "userId": "01842992490389353651"
     },
     "user_tz": -180
    },
    "id": "YAZcDrWRitX6",
    "outputId": "0424530f-c352-4902-b5aa-332603fefcd6"
   },
   "outputs": [
    {
     "data": {
      "text/plain": [
       "True"
      ]
     },
     "execution_count": 200,
     "metadata": {},
     "output_type": "execute_result"
    }
   ],
   "source": [
    "palindrom('saippuakivikauppias')"
   ]
  },
  {
   "cell_type": "code",
   "execution_count": 201,
   "metadata": {
    "colab": {
     "base_uri": "https://localhost:8080/"
    },
    "executionInfo": {
     "elapsed": 18,
     "status": "ok",
     "timestamp": 1634726417360,
     "user": {
      "displayName": "Евгения Миллер",
      "photoUrl": "https://lh3.googleusercontent.com/a-/AOh14Gj2X0dQicVOw3_uvDLm2AdkkDjMIUubVj8NCWQ6=s64",
      "userId": "01842992490389353651"
     },
     "user_tz": -180
    },
    "id": "mGGspj3Fivdk",
    "outputId": "47e70b6d-5b48-46dc-9f9f-75b7ad60b2d1"
   },
   "outputs": [
    {
     "data": {
      "text/plain": [
       "False"
      ]
     },
     "execution_count": 201,
     "metadata": {},
     "output_type": "execute_result"
    }
   ],
   "source": [
    "palindrom('murmur')"
   ]
  },
  {
   "cell_type": "code",
   "execution_count": 202,
   "metadata": {
    "colab": {
     "base_uri": "https://localhost:8080/"
    },
    "executionInfo": {
     "elapsed": 6,
     "status": "ok",
     "timestamp": 1634726418250,
     "user": {
      "displayName": "Евгения Миллер",
      "photoUrl": "https://lh3.googleusercontent.com/a-/AOh14Gj2X0dQicVOw3_uvDLm2AdkkDjMIUubVj8NCWQ6=s64",
      "userId": "01842992490389353651"
     },
     "user_tz": -180
    },
    "id": "5Nw0wTEPiwYV",
    "outputId": "7ee7f468-f42e-4417-faf4-a8a5262614f1"
   },
   "outputs": [
    {
     "data": {
      "text/plain": [
       "True"
      ]
     },
     "execution_count": 202,
     "metadata": {},
     "output_type": "execute_result"
    }
   ],
   "source": [
    "palindrom('В резерв')"
   ]
  },
  {
   "cell_type": "code",
   "execution_count": 203,
   "metadata": {
    "colab": {
     "base_uri": "https://localhost:8080/"
    },
    "executionInfo": {
     "elapsed": 3,
     "status": "ok",
     "timestamp": 1634726418507,
     "user": {
      "displayName": "Евгения Миллер",
      "photoUrl": "https://lh3.googleusercontent.com/a-/AOh14Gj2X0dQicVOw3_uvDLm2AdkkDjMIUubVj8NCWQ6=s64",
      "userId": "01842992490389353651"
     },
     "user_tz": -180
    },
    "id": "Kb9qX0ZDjaWu",
    "outputId": "3cd76a92-48af-48af-cdaa-038d7c219cf8"
   },
   "outputs": [
    {
     "data": {
      "text/plain": [
       "True"
      ]
     },
     "execution_count": 203,
     "metadata": {},
     "output_type": "execute_result"
    }
   ],
   "source": [
    "palindrom('Sator Arepo tenet opera rotas')"
   ]
  },
  {
   "cell_type": "markdown",
   "metadata": {
    "id": "FzHBlVyLDJCI"
   },
   "source": [
    "\n",
    "\n",
    "---\n",
    "\n",
    "\n",
    "\n",
    "---\n",
    "\n"
   ]
  },
  {
   "cell_type": "markdown",
   "metadata": {
    "id": "urJcsE1JDEjB"
   },
   "source": [
    "**Дополнительные задачи**"
   ]
  },
  {
   "cell_type": "markdown",
   "metadata": {
    "id": "VEgXwB5SH0LL"
   },
   "source": [
    "*Задача 5. Количество цифр в числе*\n",
    "\n",
    "Напишите функцию, которая рассчитывает количество цифр в целом числе, приходящем ей на вход.\n",
    "\n",
    "Рассмотрите два способа решения данной задачи: через строковые переменные и без использования строковых переменных.\n",
    "\n",
    "**Пример:**\n",
    "<br>\n",
    "Input: `n = 1234567` \n",
    "<br>\n",
    "Output: `7`"
   ]
  },
  {
   "cell_type": "code",
   "execution_count": 1,
   "metadata": {},
   "outputs": [],
   "source": [
    "n = 1234567"
   ]
  },
  {
   "cell_type": "code",
   "execution_count": 2,
   "metadata": {
    "id": "IOxO5n6dwPWy"
   },
   "outputs": [],
   "source": [
    "# Решение с использованием строковых переменных\n",
    "def length(n):\n",
    "    if type(n) == int:\n",
    "        n = str(n)\n",
    "        return len(n)\n",
    "    else:\n",
    "        None"
   ]
  },
  {
   "cell_type": "code",
   "execution_count": 3,
   "metadata": {},
   "outputs": [
    {
     "data": {
      "text/plain": [
       "7"
      ]
     },
     "execution_count": 3,
     "metadata": {},
     "output_type": "execute_result"
    }
   ],
   "source": [
    "# Проверка функции\n",
    "length(n)"
   ]
  },
  {
   "cell_type": "code",
   "execution_count": 22,
   "metadata": {},
   "outputs": [],
   "source": [
    "# Решение без использования строковых переменных\n",
    "def length_1(n):\n",
    "    count = 0\n",
    "    if type(n) == int:\n",
    "        while n > 0:\n",
    "            count += 1\n",
    "            n = n // 10\n",
    "            \n",
    "    return count"
   ]
  },
  {
   "cell_type": "code",
   "execution_count": 23,
   "metadata": {},
   "outputs": [
    {
     "data": {
      "text/plain": [
       "7"
      ]
     },
     "execution_count": 23,
     "metadata": {},
     "output_type": "execute_result"
    }
   ],
   "source": [
    "# Проверка функции\n",
    "length_1(n)"
   ]
  },
  {
   "cell_type": "markdown",
   "metadata": {
    "id": "Uf-63ipMwTrs"
   },
   "source": [
    "*Задача 6. Количество отличников и двоечников*\n",
    "\n",
    "Дан список, в каждом элементе которого лежат оценки за финальный экзамен по русскому языку по одному классу. Найдите количество сдавших (оценка >= 3) и не сдавших (оценка < 3) экзамен в каждом классе, а также выведите результативность класса.\n",
    "\n",
    "Результативность класса считается по следующей логике:\n",
    "* если количество оценок 4 и 5 в классе > 95%, результативность отличная;\n",
    "* если количество оценок 4 и 5 в классе < 30%, результативность плохая;\n",
    "* в остальных случаях результативность средняя.\n",
    "\n",
    "Декомпозируйте задачу с помощью функций. Добавьте возможность менять пороги результативности с помощью входных параметров.\n"
   ]
  },
  {
   "cell_type": "code",
   "execution_count": 9,
   "metadata": {
    "id": "aVeAgJbCyJeP"
   },
   "outputs": [],
   "source": [
    "scores = [\n",
    "          [2, 4, 4, 5, 2, 3, 3, 1, 1],\n",
    "          [3, 4, 2, 3, 3, 1, 5, 2, 4],\n",
    "          [5, 3, 3, 4, 3, 2, 3, 5],\n",
    "          [4, 2, 2, 4, 2],\n",
    "          [4, 3, 3, 3, 3, 3, 3],\n",
    "          [2, 1, 5, 3, 5, 5],\n",
    "          [4, 4, 4, 4, 5, 5],\n",
    "          [4, 1, 3, 4, 1, 1]\n",
    "]"
   ]
  },
  {
   "cell_type": "code",
   "execution_count": 10,
   "metadata": {},
   "outputs": [],
   "source": [
    "# Количество сдавших и не сдавших в одном классе\n",
    "def take_the_exam(stream):\n",
    "    take = 0\n",
    "    no_take = 0\n",
    "    for elem in stream:\n",
    "        if elem >= 3:\n",
    "            take += 1\n",
    "        else:\n",
    "            no_take += 1\n",
    "            \n",
    "    return print(f\"Количество сдавших:{take}, Количество провалившихся:{no_take}\")"
   ]
  },
  {
   "cell_type": "code",
   "execution_count": 11,
   "metadata": {},
   "outputs": [
    {
     "name": "stdout",
     "output_type": "stream",
     "text": [
      "Количество сдавших:5, Количество провалившихся:4\n"
     ]
    }
   ],
   "source": [
    "# Проверка функции\n",
    "take_the_exam(scores[0])"
   ]
  },
  {
   "cell_type": "code",
   "execution_count": 12,
   "metadata": {},
   "outputs": [],
   "source": [
    "# Результативность одного класса\n",
    "def rating(stream):\n",
    "    high_scores = 0\n",
    "    count_stream = len(stream)\n",
    "    for elem in stream:\n",
    "        if elem == 4 or elem == 5:\n",
    "            high_scores += 1\n",
    "    stream_rating = (high_scores / count_stream)*100\n",
    "    if stream_rating > 95:\n",
    "        return print(\"Итог по классу: Отлично\")\n",
    "    elif stream_rating < 30:\n",
    "        return print(\"Итог по классу: Плохо\")\n",
    "    else:\n",
    "        return print(\"Итог по классу: Удовлетворительно\")"
   ]
  },
  {
   "cell_type": "code",
   "execution_count": 13,
   "metadata": {},
   "outputs": [
    {
     "name": "stdout",
     "output_type": "stream",
     "text": [
      "Итог по классу: Удовлетворительно\n"
     ]
    }
   ],
   "source": [
    "# Проверка функции\n",
    "rating(scores[0])"
   ]
  },
  {
   "cell_type": "code",
   "execution_count": 14,
   "metadata": {},
   "outputs": [],
   "source": [
    "def get_info(scores):\n",
    "    for i in range(len(scores)):\n",
    "        take_the_exam(scores[i]) \n",
    "        rating(scores[i])"
   ]
  },
  {
   "cell_type": "code",
   "execution_count": 15,
   "metadata": {},
   "outputs": [
    {
     "name": "stdout",
     "output_type": "stream",
     "text": [
      "Количество сдавших:5, Количество провалившихся:4\n",
      "Итог по классу: Удовлетворительно\n",
      "Количество сдавших:6, Количество провалившихся:3\n",
      "Итог по классу: Удовлетворительно\n",
      "Количество сдавших:7, Количество провалившихся:1\n",
      "Итог по классу: Удовлетворительно\n",
      "Количество сдавших:2, Количество провалившихся:3\n",
      "Итог по классу: Удовлетворительно\n",
      "Количество сдавших:7, Количество провалившихся:0\n",
      "Итог по классу: Плохо\n",
      "Количество сдавших:4, Количество провалившихся:2\n",
      "Итог по классу: Удовлетворительно\n",
      "Количество сдавших:6, Количество провалившихся:0\n",
      "Итог по классу: Отлично\n",
      "Количество сдавших:3, Количество провалившихся:3\n",
      "Итог по классу: Удовлетворительно\n"
     ]
    }
   ],
   "source": [
    "get_info(scores)"
   ]
  },
  {
   "cell_type": "code",
   "execution_count": 16,
   "metadata": {},
   "outputs": [],
   "source": [
    "# Функция с возможностью менять пороги результативности с помощью входных параметров\n",
    "# Результативность одного класса\n",
    "def rating_1(stream, a, b):  # a - Порог отличной результативности в XY \n",
    "    high_scores = 0          # b - Порог плохой результативности XY\n",
    "    count_stream = len(stream)\n",
    "    for elem in stream:\n",
    "        if elem == 4 or elem == 5:\n",
    "            high_scores += 1\n",
    "    stream_rating = (high_scores / count_stream)*100\n",
    "    if stream_rating > a:\n",
    "        return print(\"Итог по классу: Отлично\")\n",
    "    elif stream_rating < b:\n",
    "        return print(\"Итог по классу: Плохо\")\n",
    "    else:\n",
    "        return print(\"Итог по классу: Удовлетворительно\")"
   ]
  },
  {
   "cell_type": "code",
   "execution_count": 29,
   "metadata": {},
   "outputs": [
    {
     "name": "stdout",
     "output_type": "stream",
     "text": [
      "Итог по классу: Удовлетворительно\n"
     ]
    }
   ],
   "source": [
    "# Проверка функции\n",
    "rating_1(scores[0], 80, 20)"
   ]
  },
  {
   "cell_type": "code",
   "execution_count": 22,
   "metadata": {},
   "outputs": [],
   "source": [
    "def get_info_1(scores, a, b):\n",
    "    for i in range(len(scores)):\n",
    "        take_the_exam(scores[i]) \n",
    "        rating_1(scores[i], a, b)"
   ]
  },
  {
   "cell_type": "code",
   "execution_count": 30,
   "metadata": {},
   "outputs": [
    {
     "name": "stdout",
     "output_type": "stream",
     "text": [
      "Количество сдавших:5, Количество провалившихся:4\n",
      "Итог по классу: Удовлетворительно\n",
      "Количество сдавших:6, Количество провалившихся:3\n",
      "Итог по классу: Удовлетворительно\n",
      "Количество сдавших:7, Количество провалившихся:1\n",
      "Итог по классу: Удовлетворительно\n",
      "Количество сдавших:2, Количество провалившихся:3\n",
      "Итог по классу: Удовлетворительно\n",
      "Количество сдавших:7, Количество провалившихся:0\n",
      "Итог по классу: Плохо\n",
      "Количество сдавших:4, Количество провалившихся:2\n",
      "Итог по классу: Удовлетворительно\n",
      "Количество сдавших:6, Количество провалившихся:0\n",
      "Итог по классу: Отлично\n",
      "Количество сдавших:3, Количество провалившихся:3\n",
      "Итог по классу: Удовлетворительно\n"
     ]
    }
   ],
   "source": [
    "get_info_1(scores, 80, 20)"
   ]
  },
  {
   "cell_type": "code",
   "execution_count": null,
   "metadata": {},
   "outputs": [],
   "source": []
  },
  {
   "cell_type": "markdown",
   "metadata": {
    "id": "HYOZFVZ6Dz3t"
   },
   "source": [
    "*Задача 7. Калькулятор*\n",
    "\n",
    "На вход в ваш калькулятор из стандартного ввода приходит выражение, в котором есть только числа и операции сложения и умножения.\n",
    "\n",
    "Нужно написать функцию, которая обрабатывает входную строку и выдаёт результат выражения на выходе.\n",
    "\n",
    "Используйте декомпозицию с помощью функций. Проверьте, что последующие ячейки отработали верно.\n",
    "\n",
    "\n"
   ]
  },
  {
   "cell_type": "code",
   "execution_count": 7,
   "metadata": {},
   "outputs": [],
   "source": [
    "def multiply_expression(part):\n",
    "    multiply_result = 1\n",
    "    for mp in part.split('*'):\n",
    "        multiply_result *= int(mp)\n",
    "    return multiply_result"
   ]
  },
  {
   "cell_type": "code",
   "execution_count": 8,
   "metadata": {},
   "outputs": [],
   "source": [
    "def extract_expression(expression):\n",
    "    parts = expression.split('+')\n",
    "    result = []\n",
    "    for part in parts:\n",
    "        if part.find('*') != -1:\n",
    "            result.append(multiply_expression(part))\n",
    "        else:\n",
    "            result.append(int(part))\n",
    "    return sum(result)"
   ]
  },
  {
   "cell_type": "code",
   "execution_count": 10,
   "metadata": {
    "colab": {
     "base_uri": "https://localhost:8080/"
    },
    "executionInfo": {
     "elapsed": 399,
     "status": "ok",
     "timestamp": 1634726766991,
     "user": {
      "displayName": "Евгения Миллер",
      "photoUrl": "https://lh3.googleusercontent.com/a-/AOh14Gj2X0dQicVOw3_uvDLm2AdkkDjMIUubVj8NCWQ6=s64",
      "userId": "01842992490389353651"
     },
     "user_tz": -180
    },
    "id": "IuEVDkewAXs8",
    "outputId": "7ac5117f-cbc4-403b-b731-bb49f577e658"
   },
   "outputs": [
    {
     "data": {
      "text/plain": [
       "811"
      ]
     },
     "execution_count": 10,
     "metadata": {},
     "output_type": "execute_result"
    }
   ],
   "source": [
    "expression = '1+2*4*5+7*10*11'\n",
    "extract_expression(expression)"
   ]
  },
  {
   "cell_type": "code",
   "execution_count": 11,
   "metadata": {
    "colab": {
     "base_uri": "https://localhost:8080/"
    },
    "executionInfo": {
     "elapsed": 268,
     "status": "ok",
     "timestamp": 1634726768551,
     "user": {
      "displayName": "Евгения Миллер",
      "photoUrl": "https://lh3.googleusercontent.com/a-/AOh14Gj2X0dQicVOw3_uvDLm2AdkkDjMIUubVj8NCWQ6=s64",
      "userId": "01842992490389353651"
     },
     "user_tz": -180
    },
    "id": "e2M3A0VqAcZM",
    "outputId": "7d0bfb16-927e-4049-effb-627a1c189f7d"
   },
   "outputs": [
    {
     "data": {
      "text/plain": [
       "16"
      ]
     },
     "execution_count": 11,
     "metadata": {},
     "output_type": "execute_result"
    }
   ],
   "source": [
    "extract_expression('1+2+3+10')"
   ]
  },
  {
   "cell_type": "code",
   "execution_count": 12,
   "metadata": {
    "colab": {
     "base_uri": "https://localhost:8080/"
    },
    "executionInfo": {
     "elapsed": 4,
     "status": "ok",
     "timestamp": 1634726769460,
     "user": {
      "displayName": "Евгения Миллер",
      "photoUrl": "https://lh3.googleusercontent.com/a-/AOh14Gj2X0dQicVOw3_uvDLm2AdkkDjMIUubVj8NCWQ6=s64",
      "userId": "01842992490389353651"
     },
     "user_tz": -180
    },
    "id": "KexrzLZdCCa6",
    "outputId": "7aa32915-3993-428e-e989-ede347b722f0"
   },
   "outputs": [
    {
     "data": {
      "text/plain": [
       "20"
      ]
     },
     "execution_count": 12,
     "metadata": {},
     "output_type": "execute_result"
    }
   ],
   "source": [
    "extract_expression('1*2*10')"
   ]
  },
  {
   "cell_type": "code",
   "execution_count": null,
   "metadata": {},
   "outputs": [],
   "source": []
  }
 ],
 "metadata": {
  "colab": {
   "collapsed_sections": [],
   "name": "9.8_Домашнее_задание.ipynb",
   "provenance": []
  },
  "kernelspec": {
   "display_name": "Python 3 (ipykernel)",
   "language": "python",
   "name": "python3"
  },
  "language_info": {
   "codemirror_mode": {
    "name": "ipython",
    "version": 3
   },
   "file_extension": ".py",
   "mimetype": "text/x-python",
   "name": "python",
   "nbconvert_exporter": "python",
   "pygments_lexer": "ipython3",
   "version": "3.9.12"
  }
 },
 "nbformat": 4,
 "nbformat_minor": 1
}
