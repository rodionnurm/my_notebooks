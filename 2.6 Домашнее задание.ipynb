{
 "cells": [
  {
   "cell_type": "markdown",
   "metadata": {
    "id": "1ede1DhglCo2"
   },
   "source": [
    "## **Случайные события. Домашнее задание**\n",
    "\n",
    "### Итоги модуля\n",
    "В этом модуле было введено понятие **пространства элементарных событий**. Это пространство состоит из различных **исходов** случайной величины. Вероятности элементарных событий в этом пространстве будут принимать значения от 0 до 1. \n",
    "\n",
    "В пространстве событий помимо **элементарных** исходов есть также **сложные** события, являющиеся объединением нескольких элементарных. \n",
    "\n",
    "Мы также познакомились с **зависимыми** событиями и понятием **условной вероятности**. На основе этого определения строится **формула Байеса**. Она связывает теоретические вероятности осуществления события (**априорная** вероятность) с вероятностями, основанными на некотором опыте (условная или **апостериорная** вероятность). Эта формула позволяет как бы «поменять местами» причину и следствие — получить взаимосвязь между P(A|B) и P(B|A).\n",
    "\n",
    "Это домашнее задание поможет закрепить полученные знания. В одной части заданий нужно вычислить вероятности сложных событий. Другая часть заданий посвящена применению теоремы Байеса, а также включает в себя краткое знакомство с **наивным байесовским классификатором (НБК)** — одной из моделей машинного обучения.\n",
    "\n",
    "Основную информацию, необходимую для решения данного домашнего задания, можно найти в теоретическом разделе этого модуля. Критерии оценки заданий основаны на полноте и правильности решений, а также правильности/неправильности финальных ответов. \n",
    "\n",
    "### Цели домашнего задания\n",
    "- закрепить полученные знания о вычислении вероятностей сложных событий;\n",
    "- ближе познакомиться с условными вероятностями, теоремой Байеса и байесовским классификатором.\n",
    "\n",
    "### Что оценивается\n",
    "Умение вычислять вероятности сложных событий и вероятности с использованием теоремы Байеса, понимание условных вероятностей. В каждой задаче требуется соотнести набор известных значений вероятностей с условными вероятностями и вычислить новые вероятности. Задача считается решённой, если выполнены все её условия, а также даны правильные ответы на вопросы.\n",
    "\n",
    "### Как отправить задание на проверку\n",
    "Выполните задания, сохраните изменения при помощи опции Save and Checkpoint на вкладке меню File или кнопки Save and Checkpoint на панели инструментов. Отправьте итоговый файл Jupyter Notebook (в формате .ipynb) или ссылку на него через форму.\n"
   ]
  },
  {
   "cell_type": "markdown",
   "metadata": {
    "id": "vWRlpD8wmGom"
   },
   "source": [
    "### **Задание 1**\n",
    "\n",
    "Даны таблицы с суммами и произведениями значений при броске двух кубиков. Используя эти таблицы, вычислите вероятности следующих сложных событий.\n",
    "\n",
    "<p align=\"left\">\n",
    "  <img src=\"https://drive.google.com/uc?id=1If1NDfwPCfLC6JHqxa5IDgXLRzrbB-sI\" alt=\"drawing\" width=\"600\"/>\n",
    "</p>\n",
    "\n",
    "<p align=\"left\">\n",
    "  <img src=\"https://drive.google.com/uc?id=1vWNTqND6br6XzESVSwqKjK9AqeN0-k-4\" alt=\"drawing\" width=\"600\"/>\n",
    "</p>\n",
    "\n",
    "1. Вероятность, что полученная сумма значений на кубиках — нечётное число.\n"
   ]
  },
  {
   "cell_type": "code",
   "execution_count": 19,
   "metadata": {
    "id": "op3eZLlXm7N6"
   },
   "outputs": [
    {
     "name": "stdout",
     "output_type": "stream",
     "text": [
      "Вероятность, что полученная сумма значений на кубиках - нечетное число, равна 50.0 %\n"
     ]
    }
   ],
   "source": [
    "full_variants = 6 * 6\n",
    "even_sum = full_variants / 2\n",
    "probability = even_sum / full_variants\n",
    "print(\"Вероятность, что полученная сумма значений на кубиках - нечетное число, равна\", probability * 100,\"%\")"
   ]
  },
  {
   "cell_type": "markdown",
   "metadata": {
    "id": "6cgcddHem7qV"
   },
   "source": [
    "2. Вероятность, что полученная сумма значений на кубиках — число, кратное трём.\n",
    "\n"
   ]
  },
  {
   "cell_type": "code",
   "execution_count": 18,
   "metadata": {
    "id": "YyJ5fkQvm-ev"
   },
   "outputs": [
    {
     "name": "stdout",
     "output_type": "stream",
     "text": [
      "Вероятность, что полученная сумма значений на кубиках - число кратное трем, равна 33.33 %\n"
     ]
    }
   ],
   "source": [
    "full_variants = 6 * 6\n",
    "number_divided_3 = 12\n",
    "probability = number_divided_3 / full_variants\n",
    "print(\"Вероятность, что полученная сумма значений на кубиках - число кратное трем, равна\", round(probability, 4) * 100,\"%\")"
   ]
  },
  {
   "cell_type": "markdown",
   "metadata": {
    "id": "87xRZ-Ydm_bd"
   },
   "source": [
    "3. Вероятность, что сумма будет меньше пяти или больше десяти.\n"
   ]
  },
  {
   "cell_type": "code",
   "execution_count": 25,
   "metadata": {
    "id": "4XqHSi9BnCVs"
   },
   "outputs": [
    {
     "name": "stdout",
     "output_type": "stream",
     "text": [
      "Вероятность, что сумма будет меньше пяти или больше десяти, равна 25.0 %\n"
     ]
    }
   ],
   "source": [
    "full_variants = 6 * 6\n",
    "sum_less_5 = 6\n",
    "sum_more_10 = 3\n",
    "probability_less_5 = sum_less_5 / full_variants\n",
    "probability_more_10 = sum_more_10 / full_variants\n",
    "required_probability = probability_less_5 + probability_more_10\n",
    "print(\"Вероятность, что сумма будет меньше пяти или больше десяти, равна\", required_probability * 100,\"%\")"
   ]
  },
  {
   "cell_type": "markdown",
   "metadata": {
    "id": "Dk0iqlGCnCoK"
   },
   "source": [
    "4. Вероятность, что произведение значений будет равно двенадцати.\n"
   ]
  },
  {
   "cell_type": "code",
   "execution_count": 17,
   "metadata": {
    "id": "4DsrJuKWnE_W"
   },
   "outputs": [
    {
     "name": "stdout",
     "output_type": "stream",
     "text": [
      "Вероятность, что произведение значений будет равно двенадцати -  11.111 %\n"
     ]
    }
   ],
   "source": [
    "full_variants = 6 * 6\n",
    "product_12 = 4\n",
    "probability = product_12 / full_variants\n",
    "print(\"Вероятность, что произведение значений будет равно двенадцати - \", round(probability, 5) * 100,\"%\")"
   ]
  },
  {
   "cell_type": "markdown",
   "metadata": {
    "id": "61Qt7YUlnFXc"
   },
   "source": [
    "5. Вероятность, что произведение значений — нечётно.\n"
   ]
  },
  {
   "cell_type": "code",
   "execution_count": 22,
   "metadata": {
    "id": "NH4jaPzCnIIt"
   },
   "outputs": [
    {
     "name": "stdout",
     "output_type": "stream",
     "text": [
      "Вероятность, что произведение значений — нечётно, равна 25.0 %\n"
     ]
    }
   ],
   "source": [
    "full_variants = 6 * 6\n",
    "product_odd = 9\n",
    "probability = product_odd / full_variants\n",
    "print(\"Вероятность, что произведение значений — нечётно, равна\", probability * 100, \"%\")"
   ]
  },
  {
   "cell_type": "markdown",
   "metadata": {
    "id": "x1FyFtv9nJES"
   },
   "source": [
    "6. Вероятность, что сумма значений окажется больше или равной их произведению."
   ]
  },
  {
   "cell_type": "code",
   "execution_count": 24,
   "metadata": {
    "id": "qrPXWQYEnah2"
   },
   "outputs": [
    {
     "name": "stdout",
     "output_type": "stream",
     "text": [
      "Вероятность, что сумма значений окажется больше или равной их произведению, равна  33.33 %\n"
     ]
    }
   ],
   "source": [
    "full_variants = 6 * 6\n",
    "sum_more_product = 12\n",
    "probability = sum_more_product / full_variants\n",
    "print(\"Вероятность, что сумма значений окажется больше или равной их произведению, равна \", round(probability, 4) * 100, \"%\")"
   ]
  },
  {
   "cell_type": "markdown",
   "metadata": {
    "id": "HGqYRvcQnier"
   },
   "source": [
    "### **Задание 2**\n",
    "Загрузим данные о пассажирах «Титаника» с сайта [kaggle (датасет train.csv)](https://www.kaggle.com/c/titanic/data?select=train.csv). Мы ограничимся набором таких переменных, как класс билета пассажира, пол и переменной, показывающей, выжил он или нет. В этом датасете все эти переменные заполнены непустым значением.\n"
   ]
  },
  {
   "cell_type": "code",
   "execution_count": 1,
   "metadata": {
    "id": "ua6B5AdRa2Oj"
   },
   "outputs": [],
   "source": [
    "import pandas as pd\n",
    "titanic = pd.read_csv(\"C:/Users/Rodion/Data/train.csv\")\n",
    "X = titanic[['PassengerId','Survived','Pclass','Sex']]"
   ]
  },
  {
   "cell_type": "code",
   "execution_count": 2,
   "metadata": {},
   "outputs": [
    {
     "name": "stdout",
     "output_type": "stream",
     "text": [
      "   PassengerId  Survived  Pclass     Sex\n",
      "0            1         0       3    male\n",
      "1            2         1       1  female\n",
      "2            3         1       3  female\n",
      "3            4         1       1  female\n",
      "4            5         0       3    male\n"
     ]
    }
   ],
   "source": [
    "print(X.head())"
   ]
  },
  {
   "cell_type": "code",
   "execution_count": 3,
   "metadata": {},
   "outputs": [
    {
     "name": "stdout",
     "output_type": "stream",
     "text": [
      "Sex\n",
      "female    314\n",
      "male      577\n",
      "Name: PassengerId, dtype: int64\n"
     ]
    }
   ],
   "source": [
    "print(X.groupby([\"Sex\"])[\"PassengerId\"].count())"
   ]
  },
  {
   "cell_type": "markdown",
   "metadata": {
    "id": "VREyy_REoXJ2"
   },
   "source": [
    "1. Запишите в P_fem вероятность, что случайный пассажир «Титаника» — женщина.\n"
   ]
  },
  {
   "cell_type": "code",
   "execution_count": 4,
   "metadata": {
    "id": "SOJB4aMvpdra"
   },
   "outputs": [
    {
     "name": "stdout",
     "output_type": "stream",
     "text": [
      "Вероятность того, что случайный пассажир женщина равна 35.24 %\n"
     ]
    }
   ],
   "source": [
    "female = 314\n",
    "male = 577\n",
    "P_fem = female / (male + female)\n",
    "print(\"Вероятность того, что случайный пассажир женщина равна\", round(P_fem * 100, 2),\"%\")"
   ]
  },
  {
   "cell_type": "markdown",
   "metadata": {
    "id": "NrQTNxYbpKod"
   },
   "source": [
    "2. Запишите в P_1class вероятность, что случайный пассажир «Титаника» ехал в первом классе.\n"
   ]
  },
  {
   "cell_type": "code",
   "execution_count": 5,
   "metadata": {},
   "outputs": [
    {
     "name": "stdout",
     "output_type": "stream",
     "text": [
      "Pclass\n",
      "1    216\n",
      "2    184\n",
      "3    491\n",
      "Name: PassengerId, dtype: int64\n"
     ]
    }
   ],
   "source": [
    "print(X.groupby([\"Pclass\"])[\"PassengerId\"].count())"
   ]
  },
  {
   "cell_type": "code",
   "execution_count": 6,
   "metadata": {
    "id": "G3MuKPrvpgwN"
   },
   "outputs": [
    {
     "name": "stdout",
     "output_type": "stream",
     "text": [
      "Вероятность, что случайный пассажир «Титаника» ехал в первом классе, равна 24.24 %\n"
     ]
    }
   ],
   "source": [
    "first = 216\n",
    "second = 184\n",
    "third = 491\n",
    "P_1class = first / (first + second + third)\n",
    "print(\"Вероятность, что случайный пассажир «Титаника» ехал в первом классе, равна\", round(P_1class * 100, 2),\"%\")"
   ]
  },
  {
   "cell_type": "markdown",
   "metadata": {
    "id": "K621BwxepMms"
   },
   "source": [
    "3. Запишите в P_surv вероятность, что случайный пассажир «Титаника» выжил.\n"
   ]
  },
  {
   "cell_type": "code",
   "execution_count": 7,
   "metadata": {},
   "outputs": [
    {
     "name": "stdout",
     "output_type": "stream",
     "text": [
      "Survived\n",
      "0    549\n",
      "1    342\n",
      "Name: PassengerId, dtype: int64\n"
     ]
    }
   ],
   "source": [
    "print(X.groupby([\"Survived\"])[\"PassengerId\"].count())"
   ]
  },
  {
   "cell_type": "code",
   "execution_count": 8,
   "metadata": {
    "id": "Y_hErf_ypjNQ"
   },
   "outputs": [
    {
     "name": "stdout",
     "output_type": "stream",
     "text": [
      "Вероятность, что случайный пассажир «Титаника» выжил, равна 38.38 %\n"
     ]
    }
   ],
   "source": [
    "survived = 342\n",
    "P_surv = survived / (male + female)\n",
    "print(\"Вероятность, что случайный пассажир «Титаника» выжил, равна\", round(P_surv * 100, 2),\"%\")"
   ]
  },
  {
   "cell_type": "markdown",
   "metadata": {
    "id": "DpnGD270pP34"
   },
   "source": [
    "4. Запишите в P_fem_surv вероятность, что пассажир — женщина, и одновременно с этим пассажир выжила в катастрофе.\n"
   ]
  },
  {
   "cell_type": "code",
   "execution_count": 9,
   "metadata": {},
   "outputs": [
    {
     "name": "stdout",
     "output_type": "stream",
     "text": [
      "Sex     Survived\n",
      "female  0            81\n",
      "        1           233\n",
      "male    0           468\n",
      "        1           109\n",
      "Name: PassengerId, dtype: int64\n"
     ]
    }
   ],
   "source": [
    "print(X.groupby([\"Sex\", \"Survived\"])[\"PassengerId\"].count())"
   ]
  },
  {
   "cell_type": "code",
   "execution_count": 10,
   "metadata": {
    "id": "L5eF1s-EplNF"
   },
   "outputs": [
    {
     "name": "stdout",
     "output_type": "stream",
     "text": [
      "Вероятность, что пассажир — женщина, и одновременно с этим пассажир выжила в катастрофе равна 26.15 %\n"
     ]
    }
   ],
   "source": [
    "fem_surv = 233\n",
    "P_AB = fem_surv / (male + female) # Количество удовлетворяющих нас исходов к общему числу исходов\n",
    "P_A_B = P_AB / P_surv # Вероятность того, что пассажир женщина, при условии, если пассажир выжил\n",
    "P_fem_surv = P_A_B * P_surv # Нахождение сложной вероятности при условии: события A и B, события не исключают друг друга\n",
    "print(\"Вероятность, что пассажир — женщина, и одновременно с этим пассажир выжила в катастрофе равна\", round(P_fem_surv * 100, 2),\"%\")"
   ]
  },
  {
   "cell_type": "markdown",
   "metadata": {
    "id": "fZeLtDlQpRW9"
   },
   "source": [
    "5. Найдите условную вероятность того, что пассажир выживет, при условии, если пассажир — женщина.\n"
   ]
  },
  {
   "cell_type": "code",
   "execution_count": 11,
   "metadata": {
    "id": "Im6UwOEzpr_w"
   },
   "outputs": [
    {
     "name": "stdout",
     "output_type": "stream",
     "text": [
      "Условная вероятность того, что пассажир выживет, при условии, если пассажир — женщина, равна 74.2 %\n"
     ]
    }
   ],
   "source": [
    "P_cond_surv_fem = (P_surv * P_A_B) / P_fem # Согласно равенству, данная условная вероятность равна (вероятность выжить * P_A_B (см.объяснение переменной в задаче №4)) / (вероятность, что пассажир женщина)\n",
    "print(\"Условная вероятность того, что пассажир выживет, при условии, если пассажир — женщина, равна\", round(P_cond_surv_fem * 100, 2),\"%\")"
   ]
  },
  {
   "cell_type": "markdown",
   "metadata": {
    "id": "qOs5rtX1pT94"
   },
   "source": [
    "6. По аналогии найдите вероятность того, что пассажир выживет, если пассажир ехал в первом классе.\n"
   ]
  },
  {
   "cell_type": "code",
   "execution_count": 12,
   "metadata": {},
   "outputs": [
    {
     "name": "stdout",
     "output_type": "stream",
     "text": [
      "Pclass  Survived\n",
      "1       0            80\n",
      "        1           136\n",
      "2       0            97\n",
      "        1            87\n",
      "3       0           372\n",
      "        1           119\n",
      "Name: PassengerId, dtype: int64\n"
     ]
    }
   ],
   "source": [
    "print(X.groupby([\"Pclass\", \"Survived\"])[\"PassengerId\"].count())"
   ]
  },
  {
   "cell_type": "code",
   "execution_count": 13,
   "metadata": {
    "id": "c5wuOMJAp--_"
   },
   "outputs": [
    {
     "name": "stdout",
     "output_type": "stream",
     "text": [
      "Вероятность того, что пассажир выживет, если пассажир ехал в первом классе равна 62.96 %\n"
     ]
    }
   ],
   "source": [
    "first_class_surv = 136\n",
    "P_AB1 = first_class_surv / (male + female) # Количество удовлетворяющих нас исходов к общему числу исходов\n",
    "P_cond_surv_1class = P_AB1 / P_1class # Нахождение условной вероятности\n",
    "print(\"Вероятность того, что пассажир выживет, если пассажир ехал в первом классе равна\", round(P_cond_surv_1class * 100, 2),\"%\")"
   ]
  },
  {
   "cell_type": "markdown",
   "metadata": {
    "id": "t0acZwYNpVjs"
   },
   "source": [
    "7. Найдите вероятность того, что пассажир выживет при условии, что пассажир ехал в первом классе и является женщиной.\n"
   ]
  },
  {
   "cell_type": "code",
   "execution_count": 14,
   "metadata": {},
   "outputs": [
    {
     "name": "stdout",
     "output_type": "stream",
     "text": [
      "Sex     Pclass\n",
      "female  1          94\n",
      "        2          76\n",
      "        3         144\n",
      "male    1         122\n",
      "        2         108\n",
      "        3         347\n",
      "Name: PassengerId, dtype: int64\n"
     ]
    }
   ],
   "source": [
    "print(X.groupby([\"Sex\", \"Pclass\"])[\"PassengerId\"].count())"
   ]
  },
  {
   "cell_type": "code",
   "execution_count": 15,
   "metadata": {},
   "outputs": [
    {
     "name": "stdout",
     "output_type": "stream",
     "text": [
      "Sex     Pclass  Survived\n",
      "female  1       0             3\n",
      "                1            91\n",
      "        2       0             6\n",
      "                1            70\n",
      "        3       0            72\n",
      "                1            72\n",
      "male    1       0            77\n",
      "                1            45\n",
      "        2       0            91\n",
      "                1            17\n",
      "        3       0           300\n",
      "                1            47\n",
      "Name: PassengerId, dtype: int64\n"
     ]
    }
   ],
   "source": [
    "print(X.groupby([\"Sex\", \"Pclass\", \"Survived\"])[\"PassengerId\"].count())"
   ]
  },
  {
   "cell_type": "code",
   "execution_count": 16,
   "metadata": {
    "id": "bwy-iTMnqONj"
   },
   "outputs": [
    {
     "name": "stdout",
     "output_type": "stream",
     "text": [
      "Вероятность того, что пассажир выживет при условии, что пассажир ехал в первом классе и является женщиной равна 96.81 %\n"
     ]
    }
   ],
   "source": [
    "first_class_fem_surv = 91\n",
    "first_class_fem = 94\n",
    "P_AB2 = first_class_fem_surv / (male + female) # Количество удовлетворяющих нас исходов к общему числу исходов\n",
    "P_A1B1 = first_class_fem / (male + female) # Количество удовлетворяющих нас исходов к общему числу исходов\n",
    "P_A1_B1 = P_A1B1 / P_fem # Вероятность того, что пассажир ехал в первом классе при условии, что был женщиной\n",
    "P_B_full = P_A1_B1 * P_fem # Вероятность того, что пассажир ехал в первом классе и был женщиной\n",
    "P_cond_surv_1class_fem = P_AB2 / P_B_full\n",
    "print(\"Вероятность того, что пассажир выживет при условии, что пассажир ехал в первом классе и является женщиной равна\", round(P_cond_surv_1class_fem * 100, 2),\"%\")"
   ]
  },
  {
   "cell_type": "markdown",
   "metadata": {
    "id": "YUzlJ1SVpXYN"
   },
   "source": [
    "8. Найдите вероятность того, что пассажир выживет при условии, что пассажир ехал во втором классе и является мужчиной.\n"
   ]
  },
  {
   "cell_type": "code",
   "execution_count": 17,
   "metadata": {
    "id": "DWTRkJlHqW1W"
   },
   "outputs": [
    {
     "name": "stdout",
     "output_type": "stream",
     "text": [
      "Вероятность того, что пассажир выживет при условии, что пассажир ехал во втором классе и является мужчиной равна 15.74 %\n"
     ]
    }
   ],
   "source": [
    "second_class_male_surv = 17\n",
    "second_class_male = 108\n",
    "P_male = male / (male + female)\n",
    "P_AB3 = second_class_male_surv / (male + female) # Количество удовлетворяющих нас исходов к общему числу исходов\n",
    "P_A2B2 = second_class_male / (male + female) # Количество удовлетворяющих нас исходов к общему числу исходов\n",
    "P_A2_B2 = P_A2B2 / P_male # Вероятность того, что пассажир ехал во втором классе при условии, что был мужчиной\n",
    "P_B_full2 = P_A2_B2 * P_male # Вероятность того, что пассажир ехал во втором классе и был мужчиной\n",
    "P_cond_surv_2class_male = P_AB3 / P_B_full2\n",
    "print(\"Вероятность того, что пассажир выживет при условии, что пассажир ехал во втором классе и является мужчиной равна\", round(P_cond_surv_2class_male * 100, 2),\"%\")"
   ]
  },
  {
   "cell_type": "markdown",
   "metadata": {
    "id": "8Nbz8Xb0pYuj"
   },
   "source": [
    "9. Используя посчитанные вероятности, найдите вероятность того, что случайно выбранный пассажир — женщина, если мы знаем, что пассажир выжил.\n"
   ]
  },
  {
   "cell_type": "code",
   "execution_count": 18,
   "metadata": {
    "id": "I8JLH18Uql9V"
   },
   "outputs": [
    {
     "name": "stdout",
     "output_type": "stream",
     "text": [
      "Вероятность того, что случайно выбранный пассажир женщина, если мы знаем, что пассажир выжил равна 68.13 %\n"
     ]
    }
   ],
   "source": [
    "P_Aneg = P_male # Вероятность того, что случайный пассажир не женщина\n",
    "male_surv = 109\n",
    "P_BAneg = male_surv / (male + female) # Количество удовлетворяющих нас исходов к общему числу исходов\n",
    "P_B4_Aneg = P_BAneg / P_Aneg # Вероятность того, что пассажир выжил, при условии, что пассажир не женщина\n",
    "P_cond_fem_surv = (P_cond_surv_fem * P_fem) / ((P_cond_surv_fem * P_fem) + (P_B4_Aneg * P_Aneg)) # Применяем Теорему Байеса\n",
    "print(\"Вероятность того, что случайно выбранный пассажир женщина, если мы знаем, что пассажир выжил равна\", round(P_cond_fem_surv * 100, 2),\"%\")"
   ]
  },
  {
   "cell_type": "markdown",
   "metadata": {
    "id": "b5UDgMYKpaMU"
   },
   "source": [
    "10. Используя посчитанные вероятности, найдите вероятность того, что случайно выбранный пассажир ехал в первом классе, если мы знаем, что пассажир выжил.\n"
   ]
  },
  {
   "cell_type": "code",
   "execution_count": 24,
   "metadata": {},
   "outputs": [
    {
     "name": "stdout",
     "output_type": "stream",
     "text": [
      "Вероятность того, что случайно выбранный пассажир ехал в первом классе, если мы знаем, что пассажир выжил равна 39.77 %\n"
     ]
    }
   ],
   "source": [
    "P_cond_1class_1class = (P_1class*P_cond_surv_1class) / P_surv\n",
    "print(\"Вероятность того, что случайно выбранный пассажир ехал в первом классе, если мы знаем, что пассажир выжил равна\", round(P_cond_1class_1class * 100, 2), \"%\")"
   ]
  },
  {
   "cell_type": "markdown",
   "metadata": {
    "id": "yQHFXtulpbwm"
   },
   "source": [
    "11. Сравните полученные вероятности с безусловными вероятностями соответствующих событий. Объясните разницу в значениях."
   ]
  },
  {
   "cell_type": "code",
   "execution_count": 25,
   "metadata": {
    "id": "rNgeDAeeq3SM"
   },
   "outputs": [
    {
     "name": "stdout",
     "output_type": "stream",
     "text": [
      "Случайный пассажир Титаника с вероятностью 35.24 % является женщиной (безусловная вероятность). При этом вероятность того, что случайно выбранный пассажир женщина, если мы знаем, что пассажир выжил равна 68.13 % (условная вероятность). «Сначала женщины и дети» - историческое неписаное правило, согласно которому задача по спасению жизней женщин и детей имеет безусловный приоритет (как правило, при оставлении корабля и ограниченных спасательных ресурсах).\n"
     ]
    }
   ],
   "source": [
    "print(\"Случайный пассажир Титаника с вероятностью\", round(P_fem * 100, 2), \"% является женщиной (безусловная вероятность).\", end = \" \")\n",
    "print(\"При этом вероятность того, что случайно выбранный пассажир женщина, если мы знаем, что пассажир выжил равна\", round(P_cond_fem_surv * 100, 2),\"% (условная вероятность).\", end = \" \")\n",
    "print(\"«Сначала женщины и дети» - историческое неписаное правило, согласно которому задача по спасению жизней женщин и детей имеет безусловный приоритет (как правило, при оставлении корабля и ограниченных спасательных ресурсах).\")"
   ]
  },
  {
   "cell_type": "code",
   "execution_count": 27,
   "metadata": {},
   "outputs": [
    {
     "name": "stdout",
     "output_type": "stream",
     "text": [
      "Случайный пассажир титаника ехал в первом классе с вероятностью 24.24 % (безусловная вероятность). Вероятность того, что        случайно выбранный пассажир ехал в первом классе, если мы знаем, что пассажир выжил равна 39.77 % (условная вероятность). Это   говорит нам о том, что приоритет при спасении отдавался более богатым пассажирам из первого класса.\n"
     ]
    }
   ],
   "source": [
    "print(\"Случайный пассажир титаника ехал в первом классе с вероятностью\", round(P_1class * 100, 2),\"% (безусловная вероятность).\", end = \" \")\n",
    "print(\"Вероятность того, что        случайно выбранный пассажир ехал в первом классе, если мы знаем, что пассажир выжил равна\", round(P_cond_1class_1class * 100, 2), \"% (условная вероятность).\", end = \" \")\n",
    "print(\"Это   говорит нам о том, что приоритет при спасении отдавался более богатым пассажирам из первого класса.\")"
   ]
  },
  {
   "cell_type": "markdown",
   "metadata": {
    "id": "o7W2eNBuqzAF"
   },
   "source": [
    "."
   ]
  },
  {
   "cell_type": "markdown",
   "metadata": {
    "id": "uPoHizfkrDDx"
   },
   "source": [
    "### **Задание 3**\n",
    "Рассмотрим датасет со статистикой почтового ящика `letters.xlsx`. Данные можно найти в материалах к домашнему заданию. Там содержится 248 записей с информацией о письмах. \n",
    "\n",
    "Нам хочется узнать, является ли новое письмо, пришедшее к нам на почту, спамом. Для этого у нас существует статистика писем. Каждое пришедшее письмо может быть либо спамом, либо нет. При этом и спам, и нормальные письма могут содержать слова, характерные для спам-писем. Данный датасет представляет собой набор записей с информацией о пришедших ранее письмах, распознанных человеком как спам или нет. \n",
    "\n",
    "\n"
   ]
  },
  {
   "cell_type": "code",
   "execution_count": 53,
   "metadata": {
    "colab": {
     "base_uri": "https://localhost:8080/",
     "height": 455
    },
    "executionInfo": {
     "elapsed": 282,
     "status": "ok",
     "timestamp": 1640857015304,
     "user": {
      "displayName": "Евгения Миллер",
      "photoUrl": "https://lh3.googleusercontent.com/a-/AOh14Gj2X0dQicVOw3_uvDLm2AdkkDjMIUubVj8NCWQ6=s64",
      "userId": "01842992490389353651"
     },
     "user_tz": -180
    },
    "id": "97q3xYj7a2On",
    "outputId": "fd7d7b10-c391-4ebe-dda4-0199fa8767f3"
   },
   "outputs": [
    {
     "data": {
      "text/html": [
       "<div>\n",
       "<style scoped>\n",
       "    .dataframe tbody tr th:only-of-type {\n",
       "        vertical-align: middle;\n",
       "    }\n",
       "\n",
       "    .dataframe tbody tr th {\n",
       "        vertical-align: top;\n",
       "    }\n",
       "\n",
       "    .dataframe thead th {\n",
       "        text-align: right;\n",
       "    }\n",
       "</style>\n",
       "<table border=\"1\" class=\"dataframe\">\n",
       "  <thead>\n",
       "    <tr style=\"text-align: right;\">\n",
       "      <th></th>\n",
       "      <th>spam</th>\n",
       "      <th>spam_words</th>\n",
       "    </tr>\n",
       "    <tr>\n",
       "      <th>id_letter</th>\n",
       "      <th></th>\n",
       "      <th></th>\n",
       "    </tr>\n",
       "  </thead>\n",
       "  <tbody>\n",
       "    <tr>\n",
       "      <th>1</th>\n",
       "      <td>да</td>\n",
       "      <td>нет</td>\n",
       "    </tr>\n",
       "    <tr>\n",
       "      <th>2</th>\n",
       "      <td>да</td>\n",
       "      <td>да</td>\n",
       "    </tr>\n",
       "    <tr>\n",
       "      <th>3</th>\n",
       "      <td>нет</td>\n",
       "      <td>нет</td>\n",
       "    </tr>\n",
       "    <tr>\n",
       "      <th>4</th>\n",
       "      <td>нет</td>\n",
       "      <td>да</td>\n",
       "    </tr>\n",
       "    <tr>\n",
       "      <th>5</th>\n",
       "      <td>да</td>\n",
       "      <td>да</td>\n",
       "    </tr>\n",
       "    <tr>\n",
       "      <th>...</th>\n",
       "      <td>...</td>\n",
       "      <td>...</td>\n",
       "    </tr>\n",
       "    <tr>\n",
       "      <th>244</th>\n",
       "      <td>нет</td>\n",
       "      <td>нет</td>\n",
       "    </tr>\n",
       "    <tr>\n",
       "      <th>245</th>\n",
       "      <td>нет</td>\n",
       "      <td>нет</td>\n",
       "    </tr>\n",
       "    <tr>\n",
       "      <th>246</th>\n",
       "      <td>нет</td>\n",
       "      <td>нет</td>\n",
       "    </tr>\n",
       "    <tr>\n",
       "      <th>247</th>\n",
       "      <td>нет</td>\n",
       "      <td>нет</td>\n",
       "    </tr>\n",
       "    <tr>\n",
       "      <th>248</th>\n",
       "      <td>нет</td>\n",
       "      <td>нет</td>\n",
       "    </tr>\n",
       "  </tbody>\n",
       "</table>\n",
       "<p>248 rows × 2 columns</p>\n",
       "</div>"
      ],
      "text/plain": [
       "          spam spam_words\n",
       "id_letter                \n",
       "1           да        нет\n",
       "2           да         да\n",
       "3          нет        нет\n",
       "4          нет         да\n",
       "5           да         да\n",
       "...        ...        ...\n",
       "244        нет        нет\n",
       "245        нет        нет\n",
       "246        нет        нет\n",
       "247        нет        нет\n",
       "248        нет        нет\n",
       "\n",
       "[248 rows x 2 columns]"
      ]
     },
     "execution_count": 53,
     "metadata": {},
     "output_type": "execute_result"
    }
   ],
   "source": [
    "df = pd.read_excel('letters.xlsx', sheet_name='Sheet1', index_col='id_letter')\n",
    "df"
   ]
  },
  {
   "cell_type": "code",
   "execution_count": 105,
   "metadata": {},
   "outputs": [],
   "source": [
    "letters = pd.read_excel(\"C:/Users/Rodion/Data/letters.xlsx\")\n",
    "L = letters[['id_letter','spam','spam_words']]"
   ]
  },
  {
   "cell_type": "code",
   "execution_count": 106,
   "metadata": {},
   "outputs": [
    {
     "name": "stdout",
     "output_type": "stream",
     "text": [
      "   id_letter spam spam_words\n",
      "0          1   да        нет\n",
      "1          2   да         да\n",
      "2          3  нет        нет\n",
      "3          4  нет         да\n",
      "4          5   да         да\n"
     ]
    }
   ],
   "source": [
    "print(L.head())"
   ]
  },
  {
   "cell_type": "markdown",
   "metadata": {
    "id": "VXZ48zp6s34j"
   },
   "source": [
    "Столбец `spam` отвечает на вопрос, является письмо спамом или нет, `spam_words` — содержит ли оно слова, встречающиеся в спам-письмах.\n",
    "\n",
    "1. Найдите долю спам-писем по отношению ко всем.\n",
    "\n"
   ]
  },
  {
   "cell_type": "code",
   "execution_count": 107,
   "metadata": {},
   "outputs": [
    {
     "name": "stdout",
     "output_type": "stream",
     "text": [
      "spam\n",
      "да      88\n",
      "нет    160\n",
      "Name: id_letter, dtype: int64\n"
     ]
    }
   ],
   "source": [
    "print(L.groupby([\"spam\"])[\"id_letter\"].count())"
   ]
  },
  {
   "cell_type": "code",
   "execution_count": 71,
   "metadata": {
    "id": "2-Xbar2xs_An"
   },
   "outputs": [
    {
     "name": "stdout",
     "output_type": "stream",
     "text": [
      "Доля спам писем равна 35.48 %\n"
     ]
    }
   ],
   "source": [
    "spam_positive = 88\n",
    "spam_negative = 160\n",
    "P_spam = spam_positive / (spam_positive + spam_negative)\n",
    "print(\"Доля спам писем равна\", round(P_spam * 100, 2), \"%\")"
   ]
  },
  {
   "cell_type": "markdown",
   "metadata": {
    "id": "K0FHedEys_au"
   },
   "source": [
    "2. Найдите долю писем со спам-подобными словами по отношению ко всем.\n"
   ]
  },
  {
   "cell_type": "code",
   "execution_count": 108,
   "metadata": {},
   "outputs": [
    {
     "name": "stdout",
     "output_type": "stream",
     "text": [
      "spam_words\n",
      "да      93\n",
      "нет    155\n",
      "Name: id_letter, dtype: int64\n"
     ]
    }
   ],
   "source": [
    "print(L.groupby([\"spam_words\"])[\"id_letter\"].count())"
   ]
  },
  {
   "cell_type": "code",
   "execution_count": 73,
   "metadata": {
    "id": "USOq8sNutCxC"
   },
   "outputs": [
    {
     "name": "stdout",
     "output_type": "stream",
     "text": [
      "Доля писем со спам-подобными словами равна 37.5 %\n"
     ]
    }
   ],
   "source": [
    "spam_words_positive = 93\n",
    "spam_words_negative = 155\n",
    "P_spam_words = spam_words_positive / (spam_words_positive + spam_words_negative)\n",
    "print(\"Доля писем со спам-подобными словами равна\", round(P_spam_words * 100, 2), \"%\")"
   ]
  },
  {
   "cell_type": "markdown",
   "metadata": {
    "id": "x8OiJqvCtDCD"
   },
   "source": [
    "3. Найдите вероятность, что письмо содержит спам-подобные слова при условии, что оно является спамом.\n"
   ]
  },
  {
   "cell_type": "code",
   "execution_count": 110,
   "metadata": {},
   "outputs": [
    {
     "name": "stdout",
     "output_type": "stream",
     "text": [
      "spam  spam_words\n",
      "да    да            32\n",
      "      нет           56\n",
      "нет   да            61\n",
      "      нет           99\n",
      "Name: id_letter, dtype: int64\n"
     ]
    }
   ],
   "source": [
    "print(L.groupby([\"spam\", \"spam_words\"])[\"id_letter\"].count())"
   ]
  },
  {
   "cell_type": "code",
   "execution_count": 112,
   "metadata": {
    "id": "4IwG20wNtGQ1"
   },
   "outputs": [
    {
     "name": "stdout",
     "output_type": "stream",
     "text": [
      "Вероятность, что письмо содержит спам-подобные слова при условии, что оно является спамом, равна 36.36 %\n"
     ]
    }
   ],
   "source": [
    "spam_words_spam = 32\n",
    "P_spam_words_spam = spam_words_spam / (spam_positive + spam_negative)\n",
    "P1 = P_spam_words_spam / P_spam\n",
    "print(\"Вероятность, что письмо содержит спам-подобные слова при условии, что оно является спамом, равна\", round(P1 * 100, 2), \"%\")"
   ]
  },
  {
   "cell_type": "markdown",
   "metadata": {
    "id": "ruU9vLPVtGoK"
   },
   "source": [
    "4. Найдите вероятность, что письмо является спамом при условии, что оно содержит спам-подобные слова.\n"
   ]
  },
  {
   "cell_type": "code",
   "execution_count": 114,
   "metadata": {
    "id": "q93GX-X6tJOT"
   },
   "outputs": [
    {
     "name": "stdout",
     "output_type": "stream",
     "text": [
      "Вероятность, что письмо является спамом при условии, что оно содержит спам-подобные слова, равна 34.41 %\n"
     ]
    }
   ],
   "source": [
    "P2 = P_spam_words_spam / P_spam_words\n",
    "print(\"Вероятность, что письмо является спамом при условии, что оно содержит спам-подобные слова, равна\", round(P2 * 100, 2), \"%\")"
   ]
  },
  {
   "cell_type": "markdown",
   "metadata": {
    "id": "LSWmnnWptJjb"
   },
   "source": [
    "С помощью такого принципа [работает наивный байесовский классификатор](https://ru.wikipedia.org/wiki/%D0%91%D0%B0%D0%B9%D0%B5%D1%81%D0%BE%D0%B2%D1%81%D0%BA%D0%B0%D1%8F_%D1%84%D0%B8%D0%BB%D1%8C%D1%82%D1%80%D0%B0%D1%86%D0%B8%D1%8F_%D1%81%D0%BF%D0%B0%D0%BC%D0%B0). При обучении модели для каждого встреченного в письмах слова высчитывается и сохраняется вероятность того, что письмо с этим словом — спам. И в дальнейшем, на основе наличия в письме слов с высокой вероятностью встречающихся в спам-письмах, машина может рассчитать условную вероятность того, что в таком случае письмо является спамом. Если эта вероятность превысит 0,5, можно положить такое письмо в спам. Более сложные модели учитывают не только наличие определённых слов, но и множество других факторов. Тем самым, по целому ряду свойств письма можно рассчитать соответствующую условную вероятность, что письмо будет спамом при условии, что оно обладает некоторым набором характеристик. Такой классификатор работает достаточно хорошо и быстро в простых ситуациях, однако он слишком завязан на варианты значений условий. Например, если в тренировочном датасете не встречалась определённая комбинация условных факторов, то классификатор не сможет оценить вероятность в ситуации, если такая комбинация встретится в тестовой выборке."
   ]
  }
 ],
 "metadata": {
  "colab": {
   "collapsed_sections": [],
   "name": "2.6 Домашнее задание.ipynb",
   "provenance": [
    {
     "file_id": "1pRiOUZtOF7LyR5ApOAfxecKCVl1v49Qw",
     "timestamp": 1640854864452
    }
   ]
  },
  "kernelspec": {
   "display_name": "Python 3 (ipykernel)",
   "language": "python",
   "name": "python3"
  },
  "language_info": {
   "codemirror_mode": {
    "name": "ipython",
    "version": 3
   },
   "file_extension": ".py",
   "mimetype": "text/x-python",
   "name": "python",
   "nbconvert_exporter": "python",
   "pygments_lexer": "ipython3",
   "version": "3.9.12"
  }
 },
 "nbformat": 4,
 "nbformat_minor": 1
}
